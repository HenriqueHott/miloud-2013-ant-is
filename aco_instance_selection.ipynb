{
 "cells": [
  {
   "cell_type": "code",
   "execution_count": 2,
   "source": [
    "import pandas as pd\r\n",
    "import numpy as np\r\n",
    "import random\r\n",
    "from sklearn.metrics.pairwise import euclidean_distances\r\n",
    "from functools import reduce\r\n",
    "dataframe = None"
   ],
   "outputs": [],
   "metadata": {}
  },
  {
   "cell_type": "markdown",
   "source": [
    "# Configurando a base: Ecoli"
   ],
   "metadata": {}
  },
  {
   "cell_type": "code",
   "execution_count": 3,
   "source": [
    "dataframe = pd.read_csv(\"databases/ecoli.csv\", header=None)\r\n",
    "last_row = len(dataframe.columns) - 1\r\n",
    "classes = dataframe[last_row]\r\n",
    "dataframe = dataframe.drop(columns=[0, last_row])\r\n",
    "\r\n",
    "print(classes)\r\n",
    "dataframe"
   ],
   "outputs": [
    {
     "output_type": "stream",
     "name": "stdout",
     "text": [
      "0      cp\n",
      "1      cp\n",
      "2      cp\n",
      "3      cp\n",
      "4      cp\n",
      "       ..\n",
      "331    pp\n",
      "332    pp\n",
      "333    pp\n",
      "334    pp\n",
      "335    pp\n",
      "Name: 8, Length: 336, dtype: object\n"
     ]
    },
    {
     "output_type": "execute_result",
     "data": {
      "text/html": [
       "<div>\n",
       "<style scoped>\n",
       "    .dataframe tbody tr th:only-of-type {\n",
       "        vertical-align: middle;\n",
       "    }\n",
       "\n",
       "    .dataframe tbody tr th {\n",
       "        vertical-align: top;\n",
       "    }\n",
       "\n",
       "    .dataframe thead th {\n",
       "        text-align: right;\n",
       "    }\n",
       "</style>\n",
       "<table border=\"1\" class=\"dataframe\">\n",
       "  <thead>\n",
       "    <tr style=\"text-align: right;\">\n",
       "      <th></th>\n",
       "      <th>1</th>\n",
       "      <th>2</th>\n",
       "      <th>3</th>\n",
       "      <th>4</th>\n",
       "      <th>5</th>\n",
       "      <th>6</th>\n",
       "      <th>7</th>\n",
       "    </tr>\n",
       "  </thead>\n",
       "  <tbody>\n",
       "    <tr>\n",
       "      <th>0</th>\n",
       "      <td>0.49</td>\n",
       "      <td>0.29</td>\n",
       "      <td>0.48</td>\n",
       "      <td>0.5</td>\n",
       "      <td>0.56</td>\n",
       "      <td>0.24</td>\n",
       "      <td>0.35</td>\n",
       "    </tr>\n",
       "    <tr>\n",
       "      <th>1</th>\n",
       "      <td>0.07</td>\n",
       "      <td>0.40</td>\n",
       "      <td>0.48</td>\n",
       "      <td>0.5</td>\n",
       "      <td>0.54</td>\n",
       "      <td>0.35</td>\n",
       "      <td>0.44</td>\n",
       "    </tr>\n",
       "    <tr>\n",
       "      <th>2</th>\n",
       "      <td>0.56</td>\n",
       "      <td>0.40</td>\n",
       "      <td>0.48</td>\n",
       "      <td>0.5</td>\n",
       "      <td>0.49</td>\n",
       "      <td>0.37</td>\n",
       "      <td>0.46</td>\n",
       "    </tr>\n",
       "    <tr>\n",
       "      <th>3</th>\n",
       "      <td>0.59</td>\n",
       "      <td>0.49</td>\n",
       "      <td>0.48</td>\n",
       "      <td>0.5</td>\n",
       "      <td>0.52</td>\n",
       "      <td>0.45</td>\n",
       "      <td>0.36</td>\n",
       "    </tr>\n",
       "    <tr>\n",
       "      <th>4</th>\n",
       "      <td>0.23</td>\n",
       "      <td>0.32</td>\n",
       "      <td>0.48</td>\n",
       "      <td>0.5</td>\n",
       "      <td>0.55</td>\n",
       "      <td>0.25</td>\n",
       "      <td>0.35</td>\n",
       "    </tr>\n",
       "    <tr>\n",
       "      <th>...</th>\n",
       "      <td>...</td>\n",
       "      <td>...</td>\n",
       "      <td>...</td>\n",
       "      <td>...</td>\n",
       "      <td>...</td>\n",
       "      <td>...</td>\n",
       "      <td>...</td>\n",
       "    </tr>\n",
       "    <tr>\n",
       "      <th>331</th>\n",
       "      <td>0.74</td>\n",
       "      <td>0.56</td>\n",
       "      <td>0.48</td>\n",
       "      <td>0.5</td>\n",
       "      <td>0.47</td>\n",
       "      <td>0.68</td>\n",
       "      <td>0.30</td>\n",
       "    </tr>\n",
       "    <tr>\n",
       "      <th>332</th>\n",
       "      <td>0.71</td>\n",
       "      <td>0.57</td>\n",
       "      <td>0.48</td>\n",
       "      <td>0.5</td>\n",
       "      <td>0.48</td>\n",
       "      <td>0.35</td>\n",
       "      <td>0.32</td>\n",
       "    </tr>\n",
       "    <tr>\n",
       "      <th>333</th>\n",
       "      <td>0.61</td>\n",
       "      <td>0.60</td>\n",
       "      <td>0.48</td>\n",
       "      <td>0.5</td>\n",
       "      <td>0.44</td>\n",
       "      <td>0.39</td>\n",
       "      <td>0.38</td>\n",
       "    </tr>\n",
       "    <tr>\n",
       "      <th>334</th>\n",
       "      <td>0.59</td>\n",
       "      <td>0.61</td>\n",
       "      <td>0.48</td>\n",
       "      <td>0.5</td>\n",
       "      <td>0.42</td>\n",
       "      <td>0.42</td>\n",
       "      <td>0.37</td>\n",
       "    </tr>\n",
       "    <tr>\n",
       "      <th>335</th>\n",
       "      <td>0.74</td>\n",
       "      <td>0.74</td>\n",
       "      <td>0.48</td>\n",
       "      <td>0.5</td>\n",
       "      <td>0.31</td>\n",
       "      <td>0.53</td>\n",
       "      <td>0.52</td>\n",
       "    </tr>\n",
       "  </tbody>\n",
       "</table>\n",
       "<p>336 rows × 7 columns</p>\n",
       "</div>"
      ],
      "text/plain": [
       "        1     2     3    4     5     6     7\n",
       "0    0.49  0.29  0.48  0.5  0.56  0.24  0.35\n",
       "1    0.07  0.40  0.48  0.5  0.54  0.35  0.44\n",
       "2    0.56  0.40  0.48  0.5  0.49  0.37  0.46\n",
       "3    0.59  0.49  0.48  0.5  0.52  0.45  0.36\n",
       "4    0.23  0.32  0.48  0.5  0.55  0.25  0.35\n",
       "..    ...   ...   ...  ...   ...   ...   ...\n",
       "331  0.74  0.56  0.48  0.5  0.47  0.68  0.30\n",
       "332  0.71  0.57  0.48  0.5  0.48  0.35  0.32\n",
       "333  0.61  0.60  0.48  0.5  0.44  0.39  0.38\n",
       "334  0.59  0.61  0.48  0.5  0.42  0.42  0.37\n",
       "335  0.74  0.74  0.48  0.5  0.31  0.53  0.52\n",
       "\n",
       "[336 rows x 7 columns]"
      ]
     },
     "metadata": {},
     "execution_count": 3
    }
   ],
   "metadata": {}
  },
  {
   "cell_type": "markdown",
   "source": [
    "# The ANT IS ALgorithm"
   ],
   "metadata": {}
  },
  {
   "cell_type": "markdown",
   "source": [
    "## The Algortim Paramaters"
   ],
   "metadata": {}
  },
  {
   "cell_type": "code",
   "execution_count": 4,
   "source": [
    "\r\n",
    "initial_pheromone = 1\r\n",
    "Q = 1\r\n",
    "evaporation_rate = 0.1\r\n",
    "num_ants = len(dataframe.index)"
   ],
   "outputs": [],
   "metadata": {}
  },
  {
   "cell_type": "markdown",
   "source": [
    "## Intializintg varaibles"
   ],
   "metadata": {}
  },
  {
   "cell_type": "code",
   "execution_count": 5,
   "source": [
    "num_instances = len(dataframe.index)\r\n",
    "num_instances"
   ],
   "outputs": [
    {
     "output_type": "execute_result",
     "data": {
      "text/plain": [
       "336"
      ]
     },
     "metadata": {},
     "execution_count": 5
    }
   ],
   "metadata": {}
  },
  {
   "cell_type": "code",
   "execution_count": 6,
   "source": [
    "distance_matrix = euclidean_distances(dataframe)\r\n",
    "print(f\"Shape: {distance_matrix.shape}\")\r\n",
    "distance_matrix"
   ],
   "outputs": [
    {
     "output_type": "stream",
     "name": "stdout",
     "text": [
      "Shape: (336, 336)\n"
     ]
    },
    {
     "output_type": "execute_result",
     "data": {
      "text/plain": [
       "array([[0.        , 0.45727453, 0.22561028, ..., 0.38509739, 0.40595566,\n",
       "        0.66370174],\n",
       "       [0.45727453, 0.        , 0.49335586, ..., 0.58889727, 0.58197938,\n",
       "        0.81006173],\n",
       "       [0.22561028, 0.49335586, 0.        , ..., 0.22759613, 0.24596748,\n",
       "        0.45782093],\n",
       "       ...,\n",
       "       [0.38509739, 0.58889727, 0.22759613, ..., 0.        , 0.04358899,\n",
       "        0.30430248],\n",
       "       [0.40595566, 0.58197938, 0.24596748, ..., 0.04358899, 0.        ,\n",
       "        0.29342802],\n",
       "       [0.66370174, 0.81006173, 0.45782093, ..., 0.30430248, 0.29342802,\n",
       "        0.        ]])"
      ]
     },
     "metadata": {},
     "execution_count": 6
    }
   ],
   "metadata": {}
  },
  {
   "cell_type": "code",
   "execution_count": 7,
   "source": [
    "pheromone_matrix = np.full((num_instances, num_instances), initial_pheromone)\r\n",
    "print(f\"Shape: {pheromone_matrix.shape}\")\r\n",
    "pheromone_matrix"
   ],
   "outputs": [
    {
     "output_type": "stream",
     "name": "stdout",
     "text": [
      "Shape: (336, 336)\n"
     ]
    },
    {
     "output_type": "execute_result",
     "data": {
      "text/plain": [
       "array([[1, 1, 1, ..., 1, 1, 1],\n",
       "       [1, 1, 1, ..., 1, 1, 1],\n",
       "       [1, 1, 1, ..., 1, 1, 1],\n",
       "       ...,\n",
       "       [1, 1, 1, ..., 1, 1, 1],\n",
       "       [1, 1, 1, ..., 1, 1, 1],\n",
       "       [1, 1, 1, ..., 1, 1, 1]])"
      ]
     },
     "metadata": {},
     "execution_count": 7
    }
   ],
   "metadata": {}
  },
  {
   "cell_type": "code",
   "execution_count": 8,
   "source": [
    "visibility_matrix = np.zeros((num_instances, num_instances))\r\n",
    "for i in range(num_instances):\r\n",
    "    for j in range(num_instances):\r\n",
    "        if i != j:\r\n",
    "            visibility_matrix[i, j] = 1 / distance_matrix[i, j]\r\n",
    "\r\n",
    "print(f\"Shape: {visibility_matrix.shape}\")\r\n",
    "visibility_matrix"
   ],
   "outputs": [
    {
     "output_type": "stream",
     "name": "stdout",
     "text": [
      "Shape: (336, 336)\n"
     ]
    },
    {
     "output_type": "execute_result",
     "data": {
      "text/plain": [
       "array([[ 0.        ,  2.18687008,  4.43242207, ...,  2.59674572,\n",
       "         2.4633232 ,  1.50670089],\n",
       "       [ 2.18687008,  0.        ,  2.02693449, ...,  1.69808903,\n",
       "         1.71827393,  1.23447383],\n",
       "       [ 4.43242207,  2.02693449,  0.        , ...,  4.39374775,\n",
       "         4.06557814,  2.18426014],\n",
       "       ...,\n",
       "       [ 2.59674572,  1.69808903,  4.39374775, ...,  0.        ,\n",
       "        22.94157339,  3.2862039 ],\n",
       "       [ 2.4633232 ,  1.71827393,  4.06557814, ..., 22.94157339,\n",
       "         0.        ,  3.40799088],\n",
       "       [ 1.50670089,  1.23447383,  2.18426014, ...,  3.2862039 ,\n",
       "         3.40799088,  0.        ]])"
      ]
     },
     "metadata": {},
     "execution_count": 8
    }
   ],
   "metadata": {}
  },
  {
   "cell_type": "code",
   "execution_count": 9,
   "source": [
    "the_colony = np.full((num_ants, num_ants), -1)\r\n",
    "last_ants_positions = []\r\n",
    "for i in range(num_instances):\r\n",
    "    the_colony[i,i] = 1\r\n",
    "    last_ants_positions.append(i)\r\n",
    "\r\n",
    "print(\"The Colony\")\r\n",
    "print(f\"Shape: {the_colony.shape}\")\r\n",
    "print(the_colony)\r\n",
    "print(\"Last ants positions\")\r\n",
    "print(f\"Shape: {len(last_ants_positions)}\")\r\n",
    "print(last_ants_positions)"
   ],
   "outputs": [
    {
     "output_type": "stream",
     "name": "stdout",
     "text": [
      "The Colony\n",
      "Shape: (336, 336)\n",
      "[[ 1 -1 -1 ... -1 -1 -1]\n",
      " [-1  1 -1 ... -1 -1 -1]\n",
      " [-1 -1  1 ... -1 -1 -1]\n",
      " ...\n",
      " [-1 -1 -1 ...  1 -1 -1]\n",
      " [-1 -1 -1 ... -1  1 -1]\n",
      " [-1 -1 -1 ... -1 -1  1]]\n",
      "Last ants positions\n",
      "Shape: 336\n",
      "[0, 1, 2, 3, 4, 5, 6, 7, 8, 9, 10, 11, 12, 13, 14, 15, 16, 17, 18, 19, 20, 21, 22, 23, 24, 25, 26, 27, 28, 29, 30, 31, 32, 33, 34, 35, 36, 37, 38, 39, 40, 41, 42, 43, 44, 45, 46, 47, 48, 49, 50, 51, 52, 53, 54, 55, 56, 57, 58, 59, 60, 61, 62, 63, 64, 65, 66, 67, 68, 69, 70, 71, 72, 73, 74, 75, 76, 77, 78, 79, 80, 81, 82, 83, 84, 85, 86, 87, 88, 89, 90, 91, 92, 93, 94, 95, 96, 97, 98, 99, 100, 101, 102, 103, 104, 105, 106, 107, 108, 109, 110, 111, 112, 113, 114, 115, 116, 117, 118, 119, 120, 121, 122, 123, 124, 125, 126, 127, 128, 129, 130, 131, 132, 133, 134, 135, 136, 137, 138, 139, 140, 141, 142, 143, 144, 145, 146, 147, 148, 149, 150, 151, 152, 153, 154, 155, 156, 157, 158, 159, 160, 161, 162, 163, 164, 165, 166, 167, 168, 169, 170, 171, 172, 173, 174, 175, 176, 177, 178, 179, 180, 181, 182, 183, 184, 185, 186, 187, 188, 189, 190, 191, 192, 193, 194, 195, 196, 197, 198, 199, 200, 201, 202, 203, 204, 205, 206, 207, 208, 209, 210, 211, 212, 213, 214, 215, 216, 217, 218, 219, 220, 221, 222, 223, 224, 225, 226, 227, 228, 229, 230, 231, 232, 233, 234, 235, 236, 237, 238, 239, 240, 241, 242, 243, 244, 245, 246, 247, 248, 249, 250, 251, 252, 253, 254, 255, 256, 257, 258, 259, 260, 261, 262, 263, 264, 265, 266, 267, 268, 269, 270, 271, 272, 273, 274, 275, 276, 277, 278, 279, 280, 281, 282, 283, 284, 285, 286, 287, 288, 289, 290, 291, 292, 293, 294, 295, 296, 297, 298, 299, 300, 301, 302, 303, 304, 305, 306, 307, 308, 309, 310, 311, 312, 313, 314, 315, 316, 317, 318, 319, 320, 321, 322, 323, 324, 325, 326, 327, 328, 329, 330, 331, 332, 333, 334, 335]\n"
     ]
    }
   ],
   "metadata": {}
  },
  {
   "cell_type": "markdown",
   "source": [
    "## Defening algorihm functions"
   ],
   "metadata": {}
  },
  {
   "cell_type": "code",
   "execution_count": 10,
   "source": [
    "def get_probalites_array(ant, last_position):\r\n",
    "    probs = np.zeros((num_instances, 2))\r\n",
    "    not_visted = [ instance \r\n",
    "        for instance in range(num_instances) if the_colony[ant, instance] == -1]\r\n",
    "\r\n",
    "    pheromones = pheromone_matrix[last_position, not_visted]\r\n",
    "    visibilities = visibility_matrix[last_position, not_visted]\r\n",
    "    trail_smells = np.sum(pheromones * visibilities)\r\n",
    "    # print(len(not_visted))\r\n",
    "    # print(visibilities.shape)\r\n",
    "    # print(pheromones.shape)\r\n",
    "    \r\n",
    "    # Create probs array keeping the instance index\r\n",
    "    for instance in not_visted:\r\n",
    "        probs[instance, 0] = instance\r\n",
    "        path_smell = \\\r\n",
    "            pheromone_matrix[last_position, instance] * visibility_matrix[last_position, instance]\r\n",
    "        \r\n",
    "        probs[instance, 1] = path_smell / trail_smells\r\n",
    "    \r\n",
    "    return probs\r\n",
    "\r\n",
    "\r\n",
    "# result = get_probalites_array(0, 0)\r\n",
    "# print(result.shape)\r\n",
    "# result = result[result[:, 1].argsort()][::-1]\r\n",
    "# result = pd.DataFrame(result, columns=['index', 'probalites'])\r\n",
    "# print(result)\r\n",
    "# print(f\"Max value: {result['probalites'].max() * 100}\")\r\n"
   ],
   "outputs": [],
   "metadata": {}
  },
  {
   "cell_type": "code",
   "execution_count": 11,
   "source": [
    "def choose_next_path(ant):\r\n",
    "    probs = get_probalites_array(ant, last_ants_positions[ant])\r\n",
    "    probs = probs[probs[:, 1].argsort()][::-1]\r\n",
    "\r\n",
    "    for ant_choice in range(probs.shape[0]):\r\n",
    "        new_instance = int(probs[ant_choice, 0])\r\n",
    "        prob = probs[ant_choice, 1]\r\n",
    "        fprob = prob * random.randint(0,1)\r\n",
    "        if fprob != 0:\r\n",
    "            the_colony[ant, new_instance] = 1\r\n",
    "            last_ants_positions[ant] = new_instance\r\n",
    "            break\r\n",
    "        else:\r\n",
    "            the_colony[ant, new_instance] = 0\r\n",
    "    \r\n",
    "    return last_ants_positions[ant]\r\n",
    "\r\n",
    "# choose_next_path(0)\r\n",
    "\r\n",
    "    "
   ],
   "outputs": [],
   "metadata": {}
  },
  {
   "cell_type": "code",
   "execution_count": 12,
   "source": [
    "def get_path_done(tour):\r\n",
    "    if len(tour) <= 1:\r\n",
    "        return []\r\n",
    "    else:\r\n",
    "        return [(tour[i], tour[i + 1]) for i in range(len(tour) - 1)]\r\n",
    "\r\n",
    "def get_tour_length(tour):\r\n",
    "    if len(tour) <= 1:\r\n",
    "        return 0\r\n",
    "    \r\n",
    "    tour_length = 0\r\n",
    "    for i in range(len(tour) - 1):\r\n",
    "        tour_length += distance_matrix[tour[i], tour[i + 1]]\r\n",
    "\r\n",
    "    return tour_length\r\n",
    "\r\n",
    "def update_pheromones():\r\n",
    "    pheromones_deposited = np.zeros((num_instances, num_instances))\r\n",
    "    for ant in range(the_colony.shape[0]):\r\n",
    "        tour = [\r\n",
    "            instance for instance in range(num_instances) if the_colony[ant, instance] != -1]\r\n",
    "\r\n",
    "        path_done = get_path_done(tour)\r\n",
    "        tour_length = get_tour_length(tour)\r\n",
    "        \r\n",
    "        for path in path_done:\r\n",
    "            pheromones_deposited[path[0], path[1]] += Q / tour_length\r\n",
    "\r\n",
    "    \r\n",
    "    for i in range(pheromone_matrix.shape[0]):\r\n",
    "        for j in range(pheromone_matrix.shape[1]):\r\n",
    "            pheromone_matrix[i, j] = \\\r\n",
    "            (1 - evaporation_rate) * pheromone_matrix[i,j] + pheromones_deposited[i, j] \r\n",
    "\r\n",
    "    \r\n",
    "# update_pheromones()\r\n",
    "    \r\n",
    "\r\n"
   ],
   "outputs": [],
   "metadata": {}
  },
  {
   "cell_type": "code",
   "execution_count": 13,
   "source": [
    "def run_colony():\r\n",
    "    while -1 in the_colony:\r\n",
    "        for ant in range(num_instances):\r\n",
    "            choose_next_path(ant)\r\n",
    "    \r\n",
    "        update_pheromones()\r\n",
    "\r\n",
    "run_colony()\r\n",
    "the_colony"
   ],
   "outputs": [
    {
     "output_type": "stream",
     "name": "stderr",
     "text": [
      "C:\\Users\\Reaborn\\AppData\\Local\\Temp/ipykernel_5128/3903684660.py:19: RuntimeWarning: invalid value encountered in double_scalars\n",
      "  probs[instance, 1] = path_smell / trail_smells\n"
     ]
    }
   ],
   "metadata": {}
  },
  {
   "cell_type": "code",
   "execution_count": null,
   "source": [
    "final = pd.DataFrame(the_colony)\r\n",
    "final.to_csv('teste.csv')"
   ],
   "outputs": [],
   "metadata": {}
  }
 ],
 "metadata": {
  "orig_nbformat": 4,
  "language_info": {
   "name": "python",
   "version": "3.9.7",
   "mimetype": "text/x-python",
   "codemirror_mode": {
    "name": "ipython",
    "version": 3
   },
   "pygments_lexer": "ipython3",
   "nbconvert_exporter": "python",
   "file_extension": ".py"
  },
  "kernelspec": {
   "name": "python3",
   "display_name": "Python 3.9.7 64-bit (windows store)"
  },
  "interpreter": {
   "hash": "6ee3ba472778b41e6f55206db2b590ae2a9e8e4b3d9b651880ad528b77bae29f"
  }
 },
 "nbformat": 4,
 "nbformat_minor": 2
}