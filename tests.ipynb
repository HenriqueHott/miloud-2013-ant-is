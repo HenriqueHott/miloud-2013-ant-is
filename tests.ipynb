{
 "cells": [
  {
   "cell_type": "code",
   "execution_count": 7,
   "source": [
    "import pandas as pd\r\n",
    "from ant_is import run_colony\r\n",
    "\r\n",
    "dataframe = pd.read_csv(\"databases/ecoli.csv\", header=None)\r\n",
    "last_row = len(dataframe.columns) - 1\r\n",
    "classes = dataframe[last_row]\r\n",
    "dataframe = dataframe.drop(columns=[0, last_row])\r\n",
    "num_instances = len(dataframe.index)\r\n",
    "initial_pheromone = 1\r\n",
    "Q = 1\r\n",
    "evaporation_rate = 0.1\r\n",
    "X = dataframe.to_numpy()\r\n",
    "Y = classes.to_numpy()\r\n",
    "print(X)\r\n",
    "print(Y)"
   ],
   "outputs": [
    {
     "output_type": "stream",
     "name": "stdout",
     "text": [
      "[[0.49 0.29 0.48 ... 0.56 0.24 0.35]\n",
      " [0.07 0.4  0.48 ... 0.54 0.35 0.44]\n",
      " [0.56 0.4  0.48 ... 0.49 0.37 0.46]\n",
      " ...\n",
      " [0.61 0.6  0.48 ... 0.44 0.39 0.38]\n",
      " [0.59 0.61 0.48 ... 0.42 0.42 0.37]\n",
      " [0.74 0.74 0.48 ... 0.31 0.53 0.52]]\n",
      "['cp' 'cp' 'cp' 'cp' 'cp' 'cp' 'cp' 'cp' 'cp' 'cp' 'cp' 'cp' 'cp' 'cp'\n",
      " 'cp' 'cp' 'cp' 'cp' 'cp' 'cp' 'cp' 'cp' 'cp' 'cp' 'cp' 'cp' 'cp' 'cp'\n",
      " 'cp' 'cp' 'cp' 'cp' 'cp' 'cp' 'cp' 'cp' 'cp' 'cp' 'cp' 'cp' 'cp' 'cp'\n",
      " 'cp' 'cp' 'cp' 'cp' 'cp' 'cp' 'cp' 'cp' 'cp' 'cp' 'cp' 'cp' 'cp' 'cp'\n",
      " 'cp' 'cp' 'cp' 'cp' 'cp' 'cp' 'cp' 'cp' 'cp' 'cp' 'cp' 'cp' 'cp' 'cp'\n",
      " 'cp' 'cp' 'cp' 'cp' 'cp' 'cp' 'cp' 'cp' 'cp' 'cp' 'cp' 'cp' 'cp' 'cp'\n",
      " 'cp' 'cp' 'cp' 'cp' 'cp' 'cp' 'cp' 'cp' 'cp' 'cp' 'cp' 'cp' 'cp' 'cp'\n",
      " 'cp' 'cp' 'cp' 'cp' 'cp' 'cp' 'cp' 'cp' 'cp' 'cp' 'cp' 'cp' 'cp' 'cp'\n",
      " 'cp' 'cp' 'cp' 'cp' 'cp' 'cp' 'cp' 'cp' 'cp' 'cp' 'cp' 'cp' 'cp' 'cp'\n",
      " 'cp' 'cp' 'cp' 'cp' 'cp' 'cp' 'cp' 'cp' 'cp' 'cp' 'cp' 'cp' 'cp' 'cp'\n",
      " 'cp' 'cp' 'cp' 'im' 'im' 'im' 'im' 'im' 'im' 'im' 'im' 'im' 'im' 'im'\n",
      " 'im' 'im' 'im' 'im' 'im' 'im' 'im' 'im' 'im' 'im' 'im' 'im' 'im' 'im'\n",
      " 'im' 'im' 'im' 'im' 'im' 'im' 'im' 'im' 'im' 'im' 'im' 'im' 'im' 'im'\n",
      " 'im' 'im' 'im' 'im' 'im' 'im' 'im' 'im' 'im' 'im' 'im' 'im' 'im' 'im'\n",
      " 'im' 'im' 'im' 'im' 'im' 'im' 'im' 'im' 'im' 'im' 'im' 'im' 'im' 'im'\n",
      " 'im' 'im' 'im' 'im' 'im' 'im' 'im' 'im' 'im' 'im' 'imS' 'imS' 'imL' 'imL'\n",
      " 'imU' 'imU' 'imU' 'imU' 'imU' 'imU' 'imU' 'imU' 'imU' 'imU' 'imU' 'imU'\n",
      " 'imU' 'imU' 'imU' 'imU' 'imU' 'imU' 'imU' 'imU' 'imU' 'imU' 'imU' 'imU'\n",
      " 'imU' 'imU' 'imU' 'imU' 'imU' 'imU' 'imU' 'imU' 'imU' 'imU' 'imU' 'om'\n",
      " 'om' 'om' 'om' 'om' 'om' 'om' 'om' 'om' 'om' 'om' 'om' 'om' 'om' 'om'\n",
      " 'om' 'om' 'om' 'om' 'om' 'omL' 'omL' 'omL' 'omL' 'omL' 'pp' 'pp' 'pp'\n",
      " 'pp' 'pp' 'pp' 'pp' 'pp' 'pp' 'pp' 'pp' 'pp' 'pp' 'pp' 'pp' 'pp' 'pp'\n",
      " 'pp' 'pp' 'pp' 'pp' 'pp' 'pp' 'pp' 'pp' 'pp' 'pp' 'pp' 'pp' 'pp' 'pp'\n",
      " 'pp' 'pp' 'pp' 'pp' 'pp' 'pp' 'pp' 'pp' 'pp' 'pp' 'pp' 'pp' 'pp' 'pp'\n",
      " 'pp' 'pp' 'pp' 'pp' 'pp' 'pp' 'pp']\n"
     ]
    }
   ],
   "metadata": {}
  },
  {
   "cell_type": "code",
   "execution_count": null,
   "source": [],
   "outputs": [],
   "metadata": {}
  }
 ],
 "metadata": {
  "orig_nbformat": 4,
  "language_info": {
   "name": "python",
   "version": "3.9.7",
   "mimetype": "text/x-python",
   "codemirror_mode": {
    "name": "ipython",
    "version": 3
   },
   "pygments_lexer": "ipython3",
   "nbconvert_exporter": "python",
   "file_extension": ".py"
  },
  "kernelspec": {
   "name": "python3",
   "display_name": "Python 3.9.7 64-bit (windows store)"
  },
  "interpreter": {
   "hash": "6ee3ba472778b41e6f55206db2b590ae2a9e8e4b3d9b651880ad528b77bae29f"
  }
 },
 "nbformat": 4,
 "nbformat_minor": 2
}